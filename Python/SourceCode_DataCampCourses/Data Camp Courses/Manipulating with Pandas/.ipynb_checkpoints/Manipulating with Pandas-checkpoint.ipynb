{
 "cells": [
  {
   "cell_type": "markdown",
   "metadata": {},
   "source": [
    "# Manipulating with Pandas\n",
    "## CHAPTER 1: Extracting and transforming data\n",
    "### iloc and loc in pandas\n",
    "\n",
    "![loc and iloc](Pandas-selections-and-indexing.png)\n",
    "\n",
    "#### iloc\n",
    "`iloc` is not usually used unless we want to access the first and last column as `df.iloc[0] and df.iloc[-1]`\n",
    "\n",
    "_Remarks:_\n",
    "\n",
    "1. Note that .iloc returns a Pandas Series when one row is selected, and a Pandas DataFrame when multiple rows are selected, or if any column in full is selected. To counter this, pass a single-valued list if you require DataFrame output.\n",
    "2. When using .loc, or .iloc, you can control the output format by passing lists or single values to the selectors.\n",
    "3. When using .loc, or .iloc, you can control the output format by passing lists or single values to the selectors.\n",
    "4. When selecting multiple columns or multiple rows in this manner, remember that in your selection e.g.[1:5], the rows/columns selected will run from the first number to one minus the second number. e.g. [1:5] will go 1,2,3,4., [x,y] goes from x to y-1.\n",
    "\n",
    "#### loc\n",
    "`loc` is more popular when extracting data than `iloc`.\n",
    "\n",
    "##### Label-based / Index-based indexing using .loc\n",
    "Examples: "
   ]
  },
  {
   "cell_type": "code",
   "execution_count": null,
   "metadata": {},
   "outputs": [],
   "source": [
    "# Select rows with index values 'Andrade' and 'Veness', with all columns between 'city' and 'email'\n",
    "data.loc[['Andrade', 'Veness'], 'city':'email']\n",
    "# Select same rows, with just 'first_name', 'address' and 'city' columns\n",
    "data.loc['Andrade':'Veness', ['first_name', 'address', 'city']]\n",
    " \n",
    "# Change the index to be based on the 'id' column\n",
    "data.set_index('id', inplace=True)\n",
    "# select the row with 'id' = 487\n",
    "data.loc[487]"
   ]
  },
  {
   "cell_type": "markdown",
   "metadata": {},
   "source": [
    "##### Boolean / Logical indexing using .loc\n",
    "Note that there are two output modes that .loc will return when we execute: \n",
    "![.loc output examples](loc_indexer_returns_series_or_dataframe.png)\n",
    "\n",
    "Examples:"
   ]
  },
  {
   "cell_type": "code",
   "execution_count": null,
   "metadata": {},
   "outputs": [],
   "source": [
    "# Select rows with first name Antonio, # and all columns between 'city' and 'email'\n",
    "data.loc[data['first_name'] == 'Antonio', 'city':'email']\n",
    " \n",
    "# Select rows where the email column ends with 'hotmail.com', include all columns\n",
    "data.loc[data['email'].str.endswith(\"hotmail.com\")]   \n",
    " \n",
    "# Select rows with last_name equal to some values, all columns\n",
    "data.loc[data['first_name'].isin(['France', 'Tyisha', 'Eric'])]   \n",
    "       \n",
    "# Select rows with first name Antonio AND hotmail email addresses\n",
    "data.loc[data['email'].str.endswith(\"gmail.com\") & (data['first_name'] == 'Antonio')] \n",
    " \n",
    "# select rows with id column between 100 and 200, and just return 'postal' and 'web' columns\n",
    "data.loc[(data['id'] > 100) & (data['id'] <= 200), ['postal', 'web']] \n",
    " \n",
    "# A lambda function that yields True/False values can also be used.\n",
    "# Select rows where the company name has 4 words in it.\n",
    "data.loc[data['company_name'].apply(lambda x: len(x.split(' ')) == 4)] \n",
    " \n",
    "# Selections can be achieved outside of the main .loc for clarity:\n",
    "# Form a separate variable with your selections:\n",
    "idx = data['company_name'].apply(lambda x: len(x.split(' ')) == 4)\n",
    "# Select only the True values in 'idx' and only the 3 columns specified:\n",
    "data.loc[idx, ['email', 'first_name', 'company']]"
   ]
  },
  {
   "cell_type": "markdown",
   "metadata": {},
   "source": [
    "#### ix - alternative way for .loc and .iloc\n",
    "The `ix[] indexe`r is a hybrid of `.loc` and `.iloc`. Generally, ix is label based and acts just as the `.loc` indexer. However, `.ix` also supports integer type selections (as in `.iloc`) where passed an integer. __This only works where the index of the DataFrame is not integer based__. `ix` will accept any of the inputs of `.loc` and `.iloc`.\n",
    "\n",
    "Examples:"
   ]
  },
  {
   "cell_type": "code",
   "execution_count": null,
   "metadata": {},
   "outputs": [],
   "source": [
    "# ix indexing works just the same as .loc when passed strings\n",
    "data.ix[['Andrade']] == data.loc[['Andrade']]\n",
    "# ix indexing works the same as .iloc when passed integers.\n",
    "data.ix[[33]] == data.iloc[[33]]\n",
    " \n",
    "# ix only works in both modes when the index of the DataFrame is NOT an integer itself."
   ]
  },
  {
   "cell_type": "markdown",
   "metadata": {},
   "source": [
    "### Positional and labeled indexing\n",
    "Given a pair of label-based indices, sometimes it's necessary to find the corresponding positions. In this exercise, you will use the Pennsylvania election results again. The DataFrame is provided for you as election.\n",
    "\n",
    "Find x and y such that e`lection.iloc[x, y] == election.loc['Bedford', 'winner']`. That is, what is the row position of `'Bedford'`, and the column position of 'winner'? Remember that the first position in Python is 0, not 1!\n",
    "\n",
    "To answer this question, first explore the DataFrame using `election.head()` in the IPython Shell and inspect it with your eyes."
   ]
  },
  {
   "cell_type": "code",
   "execution_count": null,
   "metadata": {},
   "outputs": [],
   "source": [
    "# Assign the row position of election.loc['Bedford']: x\n",
    "election.index\n",
    "x = election.index.get_loc('Bedford')\n",
    "\n",
    "# Assign the column position of election['winner']: y\n",
    "y = election.columns.get_loc('winner')\n",
    "\n",
    "# Print the boolean equivalence\n",
    "print(election.iloc[x, y] == election.loc['Bedford', 'winner'])"
   ]
  },
  {
   "cell_type": "markdown",
   "metadata": {},
   "source": [
    "### Indexing and column rearrangement\n",
    "There are circumstances in which it's useful to modify the order of your DataFrame columns. We do that now by extracting just two columns from the Pennsylvania election results DataFrame.\n",
    "\n",
    "Your job is to read the CSV file and set the index to `'county'`. You'll then assign a new DataFrame by selecting the list of columns `['winner', 'total', 'voters']`. The CSV file is provided to you in the variable filename."
   ]
  },
  {
   "cell_type": "code",
   "execution_count": null,
   "metadata": {},
   "outputs": [],
   "source": [
    "# Import pandas\n",
    "import pandas as pd\n",
    "\n",
    "# Read in filename and set the index: election\n",
    "election = pd.read_csv(filename, index_col='county')\n",
    "\n",
    "# Create a separate dataframe with the columns ['winner', 'total', 'voters']: results\n",
    "results = election[['winner', 'total', 'voters']]\n",
    "\n",
    "# Print the output of results.head()\n",
    "print(results.head())"
   ]
  },
  {
   "cell_type": "markdown",
   "metadata": {},
   "source": [
    "### Slicing rows\n",
    "The Pennsylvania US election results data set that you have been using so far is ordered by county name. This means that county names can be sliced alphabetically. In this exercise, you're going to perform slicing on the county names of the election DataFrame from the previous exercises, which has been pre-loaded for you."
   ]
  },
  {
   "cell_type": "code",
   "execution_count": null,
   "metadata": {},
   "outputs": [],
   "source": [
    "# Slice the row labels 'Perry' to 'Potter': p_counties\n",
    "p_counties = election.loc['Perry':'Potter']\n",
    "\n",
    "# Print the p_counties DataFrame\n",
    "print(p_counties)\n",
    "\n",
    "# Slice the row labels 'Potter' to 'Perry' in reverse order: p_counties_rev\n",
    "p_counties_rev = election.loc['Potter':'Perry':-1]\n",
    "\n",
    "# Print the p_counties_rev DataFrame\n",
    "print(p_counties_rev)"
   ]
  },
  {
   "cell_type": "markdown",
   "metadata": {},
   "source": [
    "### Slicing columns\n",
    "Similar to row slicing, columns can be sliced by value. In this exercise, your job is to slice column names from the Pennsylvania election results DataFrame using `.loc[]`.\n",
    "\n",
    "It has been pre-loaded for you as election, with the index set to `'county'`."
   ]
  }
 ],
 "metadata": {
  "kernelspec": {
   "display_name": "Python 3",
   "language": "python",
   "name": "python3"
  },
  "language_info": {
   "codemirror_mode": {
    "name": "ipython",
    "version": 3
   },
   "file_extension": ".py",
   "mimetype": "text/x-python",
   "name": "python",
   "nbconvert_exporter": "python",
   "pygments_lexer": "ipython3",
   "version": "3.7.3"
  }
 },
 "nbformat": 4,
 "nbformat_minor": 2
}
